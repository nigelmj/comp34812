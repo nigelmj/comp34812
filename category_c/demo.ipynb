{
 "cells": [
  {
   "cell_type": "markdown",
   "metadata": {},
   "source": [
    "### Natural Language Inference using RoberTa and Fully connected DNN"
   ]
  },
  {
   "cell_type": "code",
   "execution_count": 1,
   "metadata": {
    "_cell_guid": "b1076dfc-b9ad-4769-8c92-a6c4dae69d19",
    "_uuid": "8f2839f25d086af736a60e9eeb907d3b93b6e0e5",
    "execution": {
     "iopub.execute_input": "2025-04-03T15:47:36.658147Z",
     "iopub.status.busy": "2025-04-03T15:47:36.657596Z",
     "iopub.status.idle": "2025-04-03T15:47:40.119376Z",
     "shell.execute_reply": "2025-04-03T15:47:40.118487Z",
     "shell.execute_reply.started": "2025-04-03T15:47:36.658062Z"
    },
    "trusted": true
   },
   "outputs": [],
   "source": [
    "import torch\n",
    "import torch.nn as nn\n",
    "import random"
   ]
  },
  {
   "cell_type": "code",
   "execution_count": 2,
   "metadata": {
    "execution": {
     "iopub.execute_input": "2025-04-03T15:47:40.120968Z",
     "iopub.status.busy": "2025-04-03T15:47:40.120471Z",
     "iopub.status.idle": "2025-04-03T15:47:40.170512Z",
     "shell.execute_reply": "2025-04-03T15:47:40.169593Z",
     "shell.execute_reply.started": "2025-04-03T15:47:40.120938Z"
    },
    "trusted": true
   },
   "outputs": [],
   "source": [
    "DEVICE = torch.device(\"cuda\" if torch.cuda.is_available() else \"cpu\")"
   ]
  },
  {
   "cell_type": "code",
   "execution_count": 3,
   "metadata": {
    "execution": {
     "iopub.execute_input": "2025-04-03T15:47:40.172281Z",
     "iopub.status.busy": "2025-04-03T15:47:40.172058Z",
     "iopub.status.idle": "2025-04-03T15:47:40.185421Z",
     "shell.execute_reply": "2025-04-03T15:47:40.184797Z",
     "shell.execute_reply.started": "2025-04-03T15:47:40.172262Z"
    },
    "trusted": true
   },
   "outputs": [],
   "source": [
    "MODEL_NAME = 'roberta-base'\n",
    "random.seed(a=42)"
   ]
  },
  {
   "cell_type": "code",
   "execution_count": 4,
   "metadata": {
    "execution": {
     "iopub.execute_input": "2025-04-03T15:47:40.186854Z",
     "iopub.status.busy": "2025-04-03T15:47:40.186592Z",
     "iopub.status.idle": "2025-04-03T15:47:57.617325Z",
     "shell.execute_reply": "2025-04-03T15:47:57.616443Z",
     "shell.execute_reply.started": "2025-04-03T15:47:40.186833Z"
    },
    "trusted": true
   },
   "outputs": [],
   "source": [
    "from transformers import RobertaModel, AutoTokenizer"
   ]
  },
  {
   "cell_type": "markdown",
   "metadata": {},
   "source": [
    "Preparing the tokenizer to tokenize according to the needs or RoberTa"
   ]
  },
  {
   "cell_type": "code",
   "execution_count": 5,
   "metadata": {
    "execution": {
     "iopub.execute_input": "2025-04-03T15:47:57.618893Z",
     "iopub.status.busy": "2025-04-03T15:47:57.618227Z",
     "iopub.status.idle": "2025-04-03T15:48:02.536265Z",
     "shell.execute_reply": "2025-04-03T15:48:02.535579Z",
     "shell.execute_reply.started": "2025-04-03T15:47:57.618858Z"
    },
    "trusted": true
   },
   "outputs": [
    {
     "data": {
      "application/vnd.jupyter.widget-view+json": {
       "model_id": "864b0c7de050406088e3f378334263d3",
       "version_major": 2,
       "version_minor": 0
      },
      "text/plain": [
       "tokenizer_config.json:   0%|          | 0.00/25.0 [00:00<?, ?B/s]"
      ]
     },
     "metadata": {},
     "output_type": "display_data"
    },
    {
     "data": {
      "application/vnd.jupyter.widget-view+json": {
       "model_id": "ae29582d61a4471b9b1e17b0e1554ff8",
       "version_major": 2,
       "version_minor": 0
      },
      "text/plain": [
       "config.json:   0%|          | 0.00/481 [00:00<?, ?B/s]"
      ]
     },
     "metadata": {},
     "output_type": "display_data"
    },
    {
     "data": {
      "application/vnd.jupyter.widget-view+json": {
       "model_id": "b0d8e236b2234ed2ac7bde235e2a9630",
       "version_major": 2,
       "version_minor": 0
      },
      "text/plain": [
       "vocab.json:   0%|          | 0.00/899k [00:00<?, ?B/s]"
      ]
     },
     "metadata": {},
     "output_type": "display_data"
    },
    {
     "data": {
      "application/vnd.jupyter.widget-view+json": {
       "model_id": "25bebf7f4eeb45e39f967c04cccc1160",
       "version_major": 2,
       "version_minor": 0
      },
      "text/plain": [
       "merges.txt:   0%|          | 0.00/456k [00:00<?, ?B/s]"
      ]
     },
     "metadata": {},
     "output_type": "display_data"
    },
    {
     "data": {
      "application/vnd.jupyter.widget-view+json": {
       "model_id": "16e4236a37584e2b9a5b0be5c132656b",
       "version_major": 2,
       "version_minor": 0
      },
      "text/plain": [
       "tokenizer.json:   0%|          | 0.00/1.36M [00:00<?, ?B/s]"
      ]
     },
     "metadata": {},
     "output_type": "display_data"
    }
   ],
   "source": [
    "tokenizer = AutoTokenizer.from_pretrained(MODEL_NAME)"
   ]
  },
  {
   "cell_type": "code",
   "execution_count": 6,
   "metadata": {
    "execution": {
     "iopub.execute_input": "2025-04-03T15:48:02.537185Z",
     "iopub.status.busy": "2025-04-03T15:48:02.536980Z",
     "iopub.status.idle": "2025-04-03T15:48:02.540894Z",
     "shell.execute_reply": "2025-04-03T15:48:02.540010Z",
     "shell.execute_reply.started": "2025-04-03T15:48:02.537166Z"
    },
    "trusted": true
   },
   "outputs": [],
   "source": [
    "from torch.utils.data import DataLoader, Dataset"
   ]
  },
  {
   "cell_type": "markdown",
   "metadata": {},
   "source": [
    "Class to handle the dataset and split them into columns and tokenize"
   ]
  },
  {
   "cell_type": "code",
   "execution_count": 7,
   "metadata": {
    "execution": {
     "iopub.execute_input": "2025-04-03T15:48:02.541861Z",
     "iopub.status.busy": "2025-04-03T15:48:02.541573Z",
     "iopub.status.idle": "2025-04-03T15:48:02.597219Z",
     "shell.execute_reply": "2025-04-03T15:48:02.596385Z",
     "shell.execute_reply.started": "2025-04-03T15:48:02.541830Z"
    },
    "trusted": true
   },
   "outputs": [],
   "source": [
    "class NLIDataset(Dataset):\n",
    "    def __init__(self, data):\n",
    "        self.encodings = tokenizer(list(data['premise']), list(data['hypothesis']), padding=True, truncation=True, return_tensors=\"pt\", max_length=MAX_LENGTH)\n",
    "\n",
    "    def __len__(self):\n",
    "        return self.encodings[\"input_ids\"].shape[0]\n",
    "\n",
    "    def __getitem__(self, idx):\n",
    "        item = {key: val[idx] for key, val in self.encodings.items()}\n",
    "        return item"
   ]
  },
  {
   "cell_type": "markdown",
   "metadata": {},
   "source": [
    "Model definition"
   ]
  },
  {
   "cell_type": "code",
   "execution_count": 8,
   "metadata": {
    "execution": {
     "iopub.execute_input": "2025-04-03T15:48:02.599793Z",
     "iopub.status.busy": "2025-04-03T15:48:02.599527Z",
     "iopub.status.idle": "2025-04-03T15:48:02.610013Z",
     "shell.execute_reply": "2025-04-03T15:48:02.609186Z",
     "shell.execute_reply.started": "2025-04-03T15:48:02.599760Z"
    },
    "trusted": true
   },
   "outputs": [],
   "source": [
    "class DNNTransformerModel(nn.Module):\n",
    "    def __init__(self, model_name, num_labels):\n",
    "        super(DNNTransformerModel, self).__init__()\n",
    "        self.transformer = RobertaModel.from_pretrained(model_name)\n",
    "        self.dnn = nn.Sequential(\n",
    "            nn.Linear(self.transformer.config.hidden_size, 512),\n",
    "            nn.LayerNorm(512),\n",
    "            nn.GELU(),\n",
    "            nn.Dropout(0.2),\n",
    "            nn.Linear(512, 256),\n",
    "            nn.LayerNorm(256),\n",
    "            nn.GELU(),\n",
    "            nn.Dropout(0.2),\n",
    "            nn.Linear(256, num_labels)\n",
    "        )\n",
    "\n",
    "    def forward(self, input_ids, attention_mask):\n",
    "        outputs = self.transformer(input_ids=input_ids, attention_mask=attention_mask)\n",
    "        hidden_state = outputs.last_hidden_state[:, 0, :]\n",
    "        logits = self.dnn(hidden_state)\n",
    "        return logits"
   ]
  },
  {
   "cell_type": "code",
   "execution_count": 9,
   "metadata": {
    "execution": {
     "iopub.execute_input": "2025-04-03T15:48:02.611456Z",
     "iopub.status.busy": "2025-04-03T15:48:02.611223Z",
     "iopub.status.idle": "2025-04-03T15:48:04.924459Z",
     "shell.execute_reply": "2025-04-03T15:48:04.923804Z",
     "shell.execute_reply.started": "2025-04-03T15:48:02.611434Z"
    },
    "trusted": true
   },
   "outputs": [
    {
     "name": "stdout",
     "output_type": "stream",
     "text": [
      "Input the path to the model with extension /kaggle/input/nli_roberta_model/pytorch/default/1/nli_dnn_transformer.pth\n"
     ]
    }
   ],
   "source": [
    "modelPath = input(\"Input the path to the model with extension\")"
   ]
  },
  {
   "cell_type": "markdown",
   "metadata": {},
   "source": [
    "Read in the model and put it in Evalutation model"
   ]
  },
  {
   "cell_type": "code",
   "execution_count": 10,
   "metadata": {
    "execution": {
     "iopub.execute_input": "2025-04-03T15:48:04.925475Z",
     "iopub.status.busy": "2025-04-03T15:48:04.925270Z",
     "iopub.status.idle": "2025-04-03T15:48:12.531835Z",
     "shell.execute_reply": "2025-04-03T15:48:12.530991Z",
     "shell.execute_reply.started": "2025-04-03T15:48:04.925457Z"
    },
    "trusted": true
   },
   "outputs": [
    {
     "data": {
      "application/vnd.jupyter.widget-view+json": {
       "model_id": "6942d71397dd445ab94b2bafb2ccd7cd",
       "version_major": 2,
       "version_minor": 0
      },
      "text/plain": [
       "model.safetensors:   0%|          | 0.00/499M [00:00<?, ?B/s]"
      ]
     },
     "metadata": {},
     "output_type": "display_data"
    },
    {
     "name": "stderr",
     "output_type": "stream",
     "text": [
      "Some weights of RobertaModel were not initialized from the model checkpoint at roberta-base and are newly initialized: ['roberta.pooler.dense.bias', 'roberta.pooler.dense.weight']\n",
      "You should probably TRAIN this model on a down-stream task to be able to use it for predictions and inference.\n",
      "<ipython-input-10-e344f96272d1>:2: FutureWarning: You are using `torch.load` with `weights_only=False` (the current default value), which uses the default pickle module implicitly. It is possible to construct malicious pickle data which will execute arbitrary code during unpickling (See https://github.com/pytorch/pytorch/blob/main/SECURITY.md#untrusted-models for more details). In a future release, the default value for `weights_only` will be flipped to `True`. This limits the functions that could be executed during unpickling. Arbitrary objects will no longer be allowed to be loaded via this mode unless they are explicitly allowlisted by the user via `torch.serialization.add_safe_globals`. We recommend you start setting `weights_only=True` for any use case where you don't have full control of the loaded file. Please open an issue on GitHub for any issues related to this experimental feature.\n",
      "  model.load_state_dict(torch.load(modelPath))\n"
     ]
    },
    {
     "data": {
      "text/plain": [
       "DNNTransformerModel(\n",
       "  (transformer): RobertaModel(\n",
       "    (embeddings): RobertaEmbeddings(\n",
       "      (word_embeddings): Embedding(50265, 768, padding_idx=1)\n",
       "      (position_embeddings): Embedding(514, 768, padding_idx=1)\n",
       "      (token_type_embeddings): Embedding(1, 768)\n",
       "      (LayerNorm): LayerNorm((768,), eps=1e-05, elementwise_affine=True)\n",
       "      (dropout): Dropout(p=0.1, inplace=False)\n",
       "    )\n",
       "    (encoder): RobertaEncoder(\n",
       "      (layer): ModuleList(\n",
       "        (0-11): 12 x RobertaLayer(\n",
       "          (attention): RobertaAttention(\n",
       "            (self): RobertaSdpaSelfAttention(\n",
       "              (query): Linear(in_features=768, out_features=768, bias=True)\n",
       "              (key): Linear(in_features=768, out_features=768, bias=True)\n",
       "              (value): Linear(in_features=768, out_features=768, bias=True)\n",
       "              (dropout): Dropout(p=0.1, inplace=False)\n",
       "            )\n",
       "            (output): RobertaSelfOutput(\n",
       "              (dense): Linear(in_features=768, out_features=768, bias=True)\n",
       "              (LayerNorm): LayerNorm((768,), eps=1e-05, elementwise_affine=True)\n",
       "              (dropout): Dropout(p=0.1, inplace=False)\n",
       "            )\n",
       "          )\n",
       "          (intermediate): RobertaIntermediate(\n",
       "            (dense): Linear(in_features=768, out_features=3072, bias=True)\n",
       "            (intermediate_act_fn): GELUActivation()\n",
       "          )\n",
       "          (output): RobertaOutput(\n",
       "            (dense): Linear(in_features=3072, out_features=768, bias=True)\n",
       "            (LayerNorm): LayerNorm((768,), eps=1e-05, elementwise_affine=True)\n",
       "            (dropout): Dropout(p=0.1, inplace=False)\n",
       "          )\n",
       "        )\n",
       "      )\n",
       "    )\n",
       "    (pooler): RobertaPooler(\n",
       "      (dense): Linear(in_features=768, out_features=768, bias=True)\n",
       "      (activation): Tanh()\n",
       "    )\n",
       "  )\n",
       "  (dnn): Sequential(\n",
       "    (0): Linear(in_features=768, out_features=512, bias=True)\n",
       "    (1): LayerNorm((512,), eps=1e-05, elementwise_affine=True)\n",
       "    (2): GELU(approximate='none')\n",
       "    (3): Dropout(p=0.2, inplace=False)\n",
       "    (4): Linear(in_features=512, out_features=256, bias=True)\n",
       "    (5): LayerNorm((256,), eps=1e-05, elementwise_affine=True)\n",
       "    (6): GELU(approximate='none')\n",
       "    (7): Dropout(p=0.2, inplace=False)\n",
       "    (8): Linear(in_features=256, out_features=2, bias=True)\n",
       "  )\n",
       ")"
      ]
     },
     "execution_count": 10,
     "metadata": {},
     "output_type": "execute_result"
    }
   ],
   "source": [
    "model = DNNTransformerModel(MODEL_NAME, num_labels=2)\n",
    "model.load_state_dict(torch.load(modelPath))\n",
    "model = model.to(DEVICE)\n",
    "model.eval()"
   ]
  },
  {
   "cell_type": "code",
   "execution_count": 11,
   "metadata": {
    "execution": {
     "iopub.execute_input": "2025-04-03T15:48:12.532957Z",
     "iopub.status.busy": "2025-04-03T15:48:12.532632Z",
     "iopub.status.idle": "2025-04-03T15:48:16.599025Z",
     "shell.execute_reply": "2025-04-03T15:48:16.598344Z",
     "shell.execute_reply.started": "2025-04-03T15:48:12.532927Z"
    },
    "trusted": true
   },
   "outputs": [
    {
     "name": "stdout",
     "output_type": "stream",
     "text": [
      "Input the path to the document /kaggle/input/testss/test.csv\n"
     ]
    }
   ],
   "source": [
    "documentPath = input(\"Input the path to the document\")"
   ]
  },
  {
   "cell_type": "code",
   "execution_count": 13,
   "metadata": {
    "execution": {
     "iopub.execute_input": "2025-04-03T15:49:31.638648Z",
     "iopub.status.busy": "2025-04-03T15:49:31.638308Z",
     "iopub.status.idle": "2025-04-03T15:49:31.642427Z",
     "shell.execute_reply": "2025-04-03T15:49:31.641591Z",
     "shell.execute_reply.started": "2025-04-03T15:49:31.638618Z"
    },
    "trusted": true
   },
   "outputs": [],
   "source": [
    "import pandas as pd"
   ]
  },
  {
   "cell_type": "markdown",
   "metadata": {},
   "source": [
    "Read the document and preprocess for evaluation"
   ]
  },
  {
   "cell_type": "code",
   "execution_count": 14,
   "metadata": {
    "execution": {
     "iopub.execute_input": "2025-04-03T15:49:31.643747Z",
     "iopub.status.busy": "2025-04-03T15:49:31.643453Z",
     "iopub.status.idle": "2025-04-03T15:49:31.682174Z",
     "shell.execute_reply": "2025-04-03T15:49:31.681505Z",
     "shell.execute_reply.started": "2025-04-03T15:49:31.643698Z"
    },
    "trusted": true
   },
   "outputs": [],
   "source": [
    "document = pd.read_csv(documentPath)"
   ]
  },
  {
   "cell_type": "code",
   "execution_count": 17,
   "metadata": {
    "execution": {
     "iopub.execute_input": "2025-04-03T15:50:05.216616Z",
     "iopub.status.busy": "2025-04-03T15:50:05.216302Z",
     "iopub.status.idle": "2025-04-03T15:50:05.220319Z",
     "shell.execute_reply": "2025-04-03T15:50:05.219347Z",
     "shell.execute_reply.started": "2025-04-03T15:50:05.216589Z"
    },
    "trusted": true
   },
   "outputs": [],
   "source": [
    "BATCH_SIZE = 16\n",
    "MAX_LENGTH = 256"
   ]
  },
  {
   "cell_type": "code",
   "execution_count": 18,
   "metadata": {
    "execution": {
     "iopub.execute_input": "2025-04-03T15:50:05.221575Z",
     "iopub.status.busy": "2025-04-03T15:50:05.221369Z",
     "iopub.status.idle": "2025-04-03T15:50:05.503879Z",
     "shell.execute_reply": "2025-04-03T15:50:05.502959Z",
     "shell.execute_reply.started": "2025-04-03T15:50:05.221557Z"
    },
    "trusted": true
   },
   "outputs": [],
   "source": [
    "doc_dataset = NLIDataset(document)\n",
    "doc_loader = DataLoader(doc_dataset, batch_size=BATCH_SIZE)"
   ]
  },
  {
   "cell_type": "markdown",
   "metadata": {},
   "source": [
    "Predicting outputs"
   ]
  },
  {
   "cell_type": "code",
   "execution_count": 20,
   "metadata": {
    "execution": {
     "iopub.execute_input": "2025-04-03T15:50:18.245889Z",
     "iopub.status.busy": "2025-04-03T15:50:18.245565Z",
     "iopub.status.idle": "2025-04-03T15:50:26.257400Z",
     "shell.execute_reply": "2025-04-03T15:50:26.256685Z",
     "shell.execute_reply.started": "2025-04-03T15:50:18.245864Z"
    },
    "trusted": true
   },
   "outputs": [],
   "source": [
    "predictions = []\n",
    "with torch.no_grad():\n",
    "    for batch in doc_loader:\n",
    "        input_ids = batch['input_ids'].to(DEVICE)\n",
    "        attention_mask = batch['attention_mask'].to(DEVICE)\n",
    "        \n",
    "        logits = model(input_ids, attention_mask)\n",
    "        predictions.extend(torch.argmax(logits, dim=1).cpu().numpy())"
   ]
  },
  {
   "cell_type": "markdown",
   "metadata": {},
   "source": [
    "Saving the output"
   ]
  },
  {
   "cell_type": "code",
   "execution_count": 21,
   "metadata": {
    "execution": {
     "iopub.execute_input": "2025-04-03T15:50:26.259006Z",
     "iopub.status.busy": "2025-04-03T15:50:26.258669Z",
     "iopub.status.idle": "2025-04-03T15:50:26.275430Z",
     "shell.execute_reply": "2025-04-03T15:50:26.274808Z",
     "shell.execute_reply.started": "2025-04-03T15:50:26.258976Z"
    },
    "trusted": true
   },
   "outputs": [],
   "source": [
    "results_df = pd.DataFrame({'predictions': predictions})\n",
    "results_df.to_csv('output.csv.predict', index=False)"
   ]
  }
 ],
 "metadata": {
  "kaggle": {
   "accelerator": "gpu",
   "dataSources": [
    {
     "datasetId": 7035222,
     "sourceId": 11256979,
     "sourceType": "datasetVersion"
    },
    {
     "isSourceIdPinned": true,
     "modelId": 289844,
     "modelInstanceId": 268818,
     "sourceId": 318569,
     "sourceType": "modelInstanceVersion"
    }
   ],
   "dockerImageVersionId": 30919,
   "isGpuEnabled": true,
   "isInternetEnabled": true,
   "language": "python",
   "sourceType": "notebook"
  },
  "kernelspec": {
   "display_name": "Python 3",
   "language": "python",
   "name": "python3"
  },
  "language_info": {
   "codemirror_mode": {
    "name": "ipython",
    "version": 3
   },
   "file_extension": ".py",
   "mimetype": "text/x-python",
   "name": "python",
   "nbconvert_exporter": "python",
   "pygments_lexer": "ipython3",
   "version": "3.10.12"
  }
 },
 "nbformat": 4,
 "nbformat_minor": 4
}
