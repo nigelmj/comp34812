{
 "cells": [
  {
   "cell_type": "code",
   "execution_count": 1,
   "metadata": {
    "_cell_guid": "b1076dfc-b9ad-4769-8c92-a6c4dae69d19",
    "_uuid": "8f2839f25d086af736a60e9eeb907d3b93b6e0e5",
    "execution": {
     "iopub.execute_input": "2025-04-04T08:51:50.172246Z",
     "iopub.status.busy": "2025-04-04T08:51:50.171944Z",
     "iopub.status.idle": "2025-04-04T08:51:53.735977Z",
     "shell.execute_reply": "2025-04-04T08:51:53.734928Z",
     "shell.execute_reply.started": "2025-04-04T08:51:50.172212Z"
    },
    "trusted": true
   },
   "outputs": [],
   "source": [
    "import torch\n",
    "import torch.nn as nn\n",
    "import random"
   ]
  },
  {
   "cell_type": "code",
   "execution_count": 2,
   "metadata": {
    "execution": {
     "iopub.execute_input": "2025-04-04T08:51:53.737513Z",
     "iopub.status.busy": "2025-04-04T08:51:53.737088Z",
     "iopub.status.idle": "2025-04-04T08:51:53.817244Z",
     "shell.execute_reply": "2025-04-04T08:51:53.816069Z",
     "shell.execute_reply.started": "2025-04-04T08:51:53.737461Z"
    },
    "trusted": true
   },
   "outputs": [],
   "source": [
    "DEVICE = torch.device(\"cuda\" if torch.cuda.is_available() else \"cpu\")"
   ]
  },
  {
   "cell_type": "code",
   "execution_count": 3,
   "metadata": {
    "execution": {
     "iopub.execute_input": "2025-04-04T08:51:53.818570Z",
     "iopub.status.busy": "2025-04-04T08:51:53.818231Z",
     "iopub.status.idle": "2025-04-04T08:51:53.838884Z",
     "shell.execute_reply": "2025-04-04T08:51:53.837696Z",
     "shell.execute_reply.started": "2025-04-04T08:51:53.818537Z"
    },
    "trusted": true
   },
   "outputs": [],
   "source": [
    "MODEL_NAME = 'roberta-base'\n",
    "random.seed(a=42)"
   ]
  },
  {
   "cell_type": "code",
   "execution_count": 4,
   "metadata": {
    "execution": {
     "iopub.execute_input": "2025-04-04T08:51:53.840224Z",
     "iopub.status.busy": "2025-04-04T08:51:53.839910Z",
     "iopub.status.idle": "2025-04-04T08:52:13.021657Z",
     "shell.execute_reply": "2025-04-04T08:52:13.020687Z",
     "shell.execute_reply.started": "2025-04-04T08:51:53.840193Z"
    },
    "trusted": true
   },
   "outputs": [],
   "source": [
    "from transformers import RobertaModel, AutoTokenizer"
   ]
  },
  {
   "cell_type": "markdown",
   "metadata": {},
   "source": [
    "Initialise the tokenizer to prepare the texts as per RoberTa needs"
   ]
  },
  {
   "cell_type": "code",
   "execution_count": 5,
   "metadata": {
    "execution": {
     "iopub.execute_input": "2025-04-04T08:52:13.023211Z",
     "iopub.status.busy": "2025-04-04T08:52:13.022669Z",
     "iopub.status.idle": "2025-04-04T08:52:14.465941Z",
     "shell.execute_reply": "2025-04-04T08:52:14.465019Z",
     "shell.execute_reply.started": "2025-04-04T08:52:13.023186Z"
    },
    "trusted": true
   },
   "outputs": [
    {
     "data": {
      "application/vnd.jupyter.widget-view+json": {
       "model_id": "c36549266b0040fa8e6008b4393bbe71",
       "version_major": 2,
       "version_minor": 0
      },
      "text/plain": [
       "tokenizer_config.json:   0%|          | 0.00/25.0 [00:00<?, ?B/s]"
      ]
     },
     "metadata": {},
     "output_type": "display_data"
    },
    {
     "data": {
      "application/vnd.jupyter.widget-view+json": {
       "model_id": "6d8f6fdf9fa84115bd0c51263d449ccc",
       "version_major": 2,
       "version_minor": 0
      },
      "text/plain": [
       "config.json:   0%|          | 0.00/481 [00:00<?, ?B/s]"
      ]
     },
     "metadata": {},
     "output_type": "display_data"
    },
    {
     "data": {
      "application/vnd.jupyter.widget-view+json": {
       "model_id": "47a0a3a9aeeb40e7b7223e7aaebbbb5d",
       "version_major": 2,
       "version_minor": 0
      },
      "text/plain": [
       "vocab.json:   0%|          | 0.00/899k [00:00<?, ?B/s]"
      ]
     },
     "metadata": {},
     "output_type": "display_data"
    },
    {
     "data": {
      "application/vnd.jupyter.widget-view+json": {
       "model_id": "685af11ff38044bbb0d54fb921b028a9",
       "version_major": 2,
       "version_minor": 0
      },
      "text/plain": [
       "merges.txt:   0%|          | 0.00/456k [00:00<?, ?B/s]"
      ]
     },
     "metadata": {},
     "output_type": "display_data"
    },
    {
     "data": {
      "application/vnd.jupyter.widget-view+json": {
       "model_id": "f891602b11064d95b3ec597161418545",
       "version_major": 2,
       "version_minor": 0
      },
      "text/plain": [
       "tokenizer.json:   0%|          | 0.00/1.36M [00:00<?, ?B/s]"
      ]
     },
     "metadata": {},
     "output_type": "display_data"
    }
   ],
   "source": [
    "tokenizer = AutoTokenizer.from_pretrained(MODEL_NAME)"
   ]
  },
  {
   "cell_type": "code",
   "execution_count": 6,
   "metadata": {
    "execution": {
     "iopub.execute_input": "2025-04-04T08:52:14.469166Z",
     "iopub.status.busy": "2025-04-04T08:52:14.468904Z",
     "iopub.status.idle": "2025-04-04T08:52:14.473126Z",
     "shell.execute_reply": "2025-04-04T08:52:14.472055Z",
     "shell.execute_reply.started": "2025-04-04T08:52:14.469144Z"
    },
    "trusted": true
   },
   "outputs": [],
   "source": [
    "from torch.utils.data import DataLoader, Dataset"
   ]
  },
  {
   "cell_type": "markdown",
   "metadata": {},
   "source": [
    "Class to handle the dataset and split them into columns and tokenize"
   ]
  },
  {
   "cell_type": "code",
   "execution_count": 7,
   "metadata": {
    "execution": {
     "iopub.execute_input": "2025-04-04T08:52:14.475198Z",
     "iopub.status.busy": "2025-04-04T08:52:14.474836Z",
     "iopub.status.idle": "2025-04-04T08:52:14.491148Z",
     "shell.execute_reply": "2025-04-04T08:52:14.490268Z",
     "shell.execute_reply.started": "2025-04-04T08:52:14.475168Z"
    },
    "trusted": true
   },
   "outputs": [],
   "source": [
    "class NLIDataset(Dataset):\n",
    "    def __init__(self, data):\n",
    "        self.encodings = tokenizer(list(data['premise']), list(data['hypothesis']), padding=True, truncation=True, return_tensors=\"pt\", max_length=MAX_LENGTH)\n",
    "        self.labels = torch.tensor(data['label'].values, dtype=torch.long)\n",
    "\n",
    "    def __len__(self):\n",
    "        return len(self.labels)\n",
    "\n",
    "    def __getitem__(self,idx):\n",
    "        item = {key: val[idx] for key, val in self.encodings.items()}\n",
    "        item['labels'] = self.labels[idx]\n",
    "        return item"
   ]
  },
  {
   "cell_type": "markdown",
   "metadata": {},
   "source": [
    "Model definition"
   ]
  },
  {
   "cell_type": "code",
   "execution_count": 8,
   "metadata": {
    "execution": {
     "iopub.execute_input": "2025-04-04T08:52:14.492218Z",
     "iopub.status.busy": "2025-04-04T08:52:14.491965Z",
     "iopub.status.idle": "2025-04-04T08:52:14.507605Z",
     "shell.execute_reply": "2025-04-04T08:52:14.506775Z",
     "shell.execute_reply.started": "2025-04-04T08:52:14.492198Z"
    },
    "trusted": true
   },
   "outputs": [],
   "source": [
    "class DNNTransformerModel(nn.Module):\n",
    "    def __init__(self, model_name, num_labels):\n",
    "        super(DNNTransformerModel, self).__init__()\n",
    "        self.transformer = RobertaModel.from_pretrained(model_name)\n",
    "        self.dnn = nn.Sequential(\n",
    "            nn.Linear(self.transformer.config.hidden_size, 512),\n",
    "            nn.LayerNorm(512),\n",
    "            nn.GELU(),\n",
    "            nn.Dropout(0.2),\n",
    "            nn.Linear(512, 256),\n",
    "            nn.LayerNorm(256),\n",
    "            nn.GELU(),\n",
    "            nn.Dropout(0.2),\n",
    "            nn.Linear(256, num_labels)\n",
    "        )\n",
    "\n",
    "    def forward(self, input_ids, attention_mask):\n",
    "        outputs = self.transformer(input_ids=input_ids, attention_mask=attention_mask)\n",
    "        hidden_state = outputs.last_hidden_state[:, 0, :]\n",
    "        logits = self.dnn(hidden_state)\n",
    "        return logits"
   ]
  },
  {
   "cell_type": "code",
   "execution_count": 9,
   "metadata": {
    "execution": {
     "iopub.execute_input": "2025-04-04T08:52:14.508906Z",
     "iopub.status.busy": "2025-04-04T08:52:14.508641Z",
     "iopub.status.idle": "2025-04-04T08:52:14.524144Z",
     "shell.execute_reply": "2025-04-04T08:52:14.523429Z",
     "shell.execute_reply.started": "2025-04-04T08:52:14.508884Z"
    },
    "trusted": true
   },
   "outputs": [],
   "source": [
    "modelPath = \"/kaggle/input/nli_c/pytorch/default/1/nli_dnn_transformer.pth\""
   ]
  },
  {
   "cell_type": "markdown",
   "metadata": {},
   "source": [
    "Load the model and put it in evaluation model"
   ]
  },
  {
   "cell_type": "code",
   "execution_count": 10,
   "metadata": {
    "execution": {
     "iopub.execute_input": "2025-04-04T08:52:14.525438Z",
     "iopub.status.busy": "2025-04-04T08:52:14.525124Z",
     "iopub.status.idle": "2025-04-04T08:52:22.102829Z",
     "shell.execute_reply": "2025-04-04T08:52:22.102020Z",
     "shell.execute_reply.started": "2025-04-04T08:52:14.525408Z"
    },
    "trusted": true
   },
   "outputs": [
    {
     "data": {
      "application/vnd.jupyter.widget-view+json": {
       "model_id": "cfad5148b8454675b1da7b79f165a0f5",
       "version_major": 2,
       "version_minor": 0
      },
      "text/plain": [
       "model.safetensors:   0%|          | 0.00/499M [00:00<?, ?B/s]"
      ]
     },
     "metadata": {},
     "output_type": "display_data"
    },
    {
     "name": "stderr",
     "output_type": "stream",
     "text": [
      "Some weights of RobertaModel were not initialized from the model checkpoint at roberta-base and are newly initialized: ['roberta.pooler.dense.bias', 'roberta.pooler.dense.weight']\n",
      "You should probably TRAIN this model on a down-stream task to be able to use it for predictions and inference.\n",
      "<ipython-input-10-e344f96272d1>:2: FutureWarning: You are using `torch.load` with `weights_only=False` (the current default value), which uses the default pickle module implicitly. It is possible to construct malicious pickle data which will execute arbitrary code during unpickling (See https://github.com/pytorch/pytorch/blob/main/SECURITY.md#untrusted-models for more details). In a future release, the default value for `weights_only` will be flipped to `True`. This limits the functions that could be executed during unpickling. Arbitrary objects will no longer be allowed to be loaded via this mode unless they are explicitly allowlisted by the user via `torch.serialization.add_safe_globals`. We recommend you start setting `weights_only=True` for any use case where you don't have full control of the loaded file. Please open an issue on GitHub for any issues related to this experimental feature.\n",
      "  model.load_state_dict(torch.load(modelPath))\n"
     ]
    },
    {
     "data": {
      "text/plain": [
       "DNNTransformerModel(\n",
       "  (transformer): RobertaModel(\n",
       "    (embeddings): RobertaEmbeddings(\n",
       "      (word_embeddings): Embedding(50265, 768, padding_idx=1)\n",
       "      (position_embeddings): Embedding(514, 768, padding_idx=1)\n",
       "      (token_type_embeddings): Embedding(1, 768)\n",
       "      (LayerNorm): LayerNorm((768,), eps=1e-05, elementwise_affine=True)\n",
       "      (dropout): Dropout(p=0.1, inplace=False)\n",
       "    )\n",
       "    (encoder): RobertaEncoder(\n",
       "      (layer): ModuleList(\n",
       "        (0-11): 12 x RobertaLayer(\n",
       "          (attention): RobertaAttention(\n",
       "            (self): RobertaSdpaSelfAttention(\n",
       "              (query): Linear(in_features=768, out_features=768, bias=True)\n",
       "              (key): Linear(in_features=768, out_features=768, bias=True)\n",
       "              (value): Linear(in_features=768, out_features=768, bias=True)\n",
       "              (dropout): Dropout(p=0.1, inplace=False)\n",
       "            )\n",
       "            (output): RobertaSelfOutput(\n",
       "              (dense): Linear(in_features=768, out_features=768, bias=True)\n",
       "              (LayerNorm): LayerNorm((768,), eps=1e-05, elementwise_affine=True)\n",
       "              (dropout): Dropout(p=0.1, inplace=False)\n",
       "            )\n",
       "          )\n",
       "          (intermediate): RobertaIntermediate(\n",
       "            (dense): Linear(in_features=768, out_features=3072, bias=True)\n",
       "            (intermediate_act_fn): GELUActivation()\n",
       "          )\n",
       "          (output): RobertaOutput(\n",
       "            (dense): Linear(in_features=3072, out_features=768, bias=True)\n",
       "            (LayerNorm): LayerNorm((768,), eps=1e-05, elementwise_affine=True)\n",
       "            (dropout): Dropout(p=0.1, inplace=False)\n",
       "          )\n",
       "        )\n",
       "      )\n",
       "    )\n",
       "    (pooler): RobertaPooler(\n",
       "      (dense): Linear(in_features=768, out_features=768, bias=True)\n",
       "      (activation): Tanh()\n",
       "    )\n",
       "  )\n",
       "  (dnn): Sequential(\n",
       "    (0): Linear(in_features=768, out_features=512, bias=True)\n",
       "    (1): LayerNorm((512,), eps=1e-05, elementwise_affine=True)\n",
       "    (2): GELU(approximate='none')\n",
       "    (3): Dropout(p=0.2, inplace=False)\n",
       "    (4): Linear(in_features=512, out_features=256, bias=True)\n",
       "    (5): LayerNorm((256,), eps=1e-05, elementwise_affine=True)\n",
       "    (6): GELU(approximate='none')\n",
       "    (7): Dropout(p=0.2, inplace=False)\n",
       "    (8): Linear(in_features=256, out_features=2, bias=True)\n",
       "  )\n",
       ")"
      ]
     },
     "execution_count": 10,
     "metadata": {},
     "output_type": "execute_result"
    }
   ],
   "source": [
    "model = DNNTransformerModel(MODEL_NAME, num_labels=2)\n",
    "model.load_state_dict(torch.load(modelPath))\n",
    "model = model.to(DEVICE)\n",
    "model.eval()"
   ]
  },
  {
   "cell_type": "code",
   "execution_count": 11,
   "metadata": {
    "execution": {
     "iopub.execute_input": "2025-04-04T08:52:22.104079Z",
     "iopub.status.busy": "2025-04-04T08:52:22.103719Z",
     "iopub.status.idle": "2025-04-04T08:52:28.051798Z",
     "shell.execute_reply": "2025-04-04T08:52:28.051059Z",
     "shell.execute_reply.started": "2025-04-04T08:52:22.104043Z"
    },
    "trusted": true
   },
   "outputs": [
    {
     "name": "stdout",
     "output_type": "stream",
     "text": [
      "Input the path to the document /kaggle/input/testing-data/dev.csv\n"
     ]
    }
   ],
   "source": [
    "documentPath = input(\"Input the path to the document\")"
   ]
  },
  {
   "cell_type": "code",
   "execution_count": 12,
   "metadata": {
    "execution": {
     "iopub.execute_input": "2025-04-04T08:52:28.052815Z",
     "iopub.status.busy": "2025-04-04T08:52:28.052553Z",
     "iopub.status.idle": "2025-04-04T08:52:28.057110Z",
     "shell.execute_reply": "2025-04-04T08:52:28.055795Z",
     "shell.execute_reply.started": "2025-04-04T08:52:28.052793Z"
    },
    "trusted": true
   },
   "outputs": [],
   "source": [
    "import pandas as pd"
   ]
  },
  {
   "cell_type": "markdown",
   "metadata": {},
   "source": [
    "Read in the document and preprocess it to be evaluated"
   ]
  },
  {
   "cell_type": "code",
   "execution_count": 13,
   "metadata": {
    "execution": {
     "iopub.execute_input": "2025-04-04T08:52:28.058699Z",
     "iopub.status.busy": "2025-04-04T08:52:28.058357Z",
     "iopub.status.idle": "2025-04-04T08:52:30.099523Z",
     "shell.execute_reply": "2025-04-04T08:52:30.098688Z",
     "shell.execute_reply.started": "2025-04-04T08:52:28.058665Z"
    },
    "trusted": true
   },
   "outputs": [],
   "source": [
    "document = pd.read_csv(documentPath)"
   ]
  },
  {
   "cell_type": "code",
   "execution_count": 14,
   "metadata": {
    "execution": {
     "iopub.execute_input": "2025-04-04T08:52:30.100563Z",
     "iopub.status.busy": "2025-04-04T08:52:30.100291Z",
     "iopub.status.idle": "2025-04-04T08:52:30.104607Z",
     "shell.execute_reply": "2025-04-04T08:52:30.103473Z",
     "shell.execute_reply.started": "2025-04-04T08:52:30.100541Z"
    },
    "trusted": true
   },
   "outputs": [],
   "source": [
    "BATCH_SIZE = 16\n",
    "MAX_LENGTH = 256"
   ]
  },
  {
   "cell_type": "code",
   "execution_count": 15,
   "metadata": {
    "execution": {
     "iopub.execute_input": "2025-04-04T08:52:30.105807Z",
     "iopub.status.busy": "2025-04-04T08:52:30.105549Z",
     "iopub.status.idle": "2025-04-04T08:52:31.092952Z",
     "shell.execute_reply": "2025-04-04T08:52:31.092163Z",
     "shell.execute_reply.started": "2025-04-04T08:52:30.105784Z"
    },
    "trusted": true
   },
   "outputs": [],
   "source": [
    "doc_dataset = NLIDataset(document)\n",
    "doc_loader = DataLoader(doc_dataset, batch_size=BATCH_SIZE)"
   ]
  },
  {
   "cell_type": "code",
   "execution_count": 18,
   "metadata": {
    "execution": {
     "iopub.execute_input": "2025-04-04T08:53:01.153062Z",
     "iopub.status.busy": "2025-04-04T08:53:01.152704Z",
     "iopub.status.idle": "2025-04-04T08:53:01.157378Z",
     "shell.execute_reply": "2025-04-04T08:53:01.156224Z",
     "shell.execute_reply.started": "2025-04-04T08:53:01.153034Z"
    },
    "trusted": true
   },
   "outputs": [],
   "source": [
    "from sklearn.metrics import classification_report, confusion_matrix\n",
    "from tqdm import tqdm"
   ]
  },
  {
   "cell_type": "markdown",
   "metadata": {},
   "source": [
    "Evaluation script to compare with Golden Truth"
   ]
  },
  {
   "cell_type": "code",
   "execution_count": 21,
   "metadata": {
    "execution": {
     "iopub.execute_input": "2025-04-04T08:54:19.085536Z",
     "iopub.status.busy": "2025-04-04T08:54:19.085098Z",
     "iopub.status.idle": "2025-04-04T08:54:49.887621Z",
     "shell.execute_reply": "2025-04-04T08:54:49.886684Z",
     "shell.execute_reply.started": "2025-04-04T08:54:19.085507Z"
    },
    "trusted": true
   },
   "outputs": [
    {
     "name": "stderr",
     "output_type": "stream",
     "text": [
      "100%|██████████| 421/421 [00:30<00:00, 13.68it/s]"
     ]
    },
    {
     "name": "stdout",
     "output_type": "stream",
     "text": [
      "Classification Report:\n",
      "              precision    recall  f1-score   support\n",
      "\n",
      "           0       0.86      0.86      0.86      3258\n",
      "           1       0.86      0.87      0.87      3478\n",
      "\n",
      "    accuracy                           0.86      6736\n",
      "   macro avg       0.86      0.86      0.86      6736\n",
      "weighted avg       0.86      0.86      0.86      6736\n",
      "\n",
      "\n",
      "Confusion Matrix:\n",
      "[[2786  472]\n",
      " [ 460 3018]]\n"
     ]
    },
    {
     "name": "stderr",
     "output_type": "stream",
     "text": [
      "\n"
     ]
    }
   ],
   "source": [
    "predictions, true_labels = [], []\n",
    "\n",
    "with torch.no_grad():\n",
    "    for batch in tqdm(doc_loader):\n",
    "        input_ids = batch['input_ids'].to(DEVICE)\n",
    "        attention_mask = batch['attention_mask'].to(DEVICE)\n",
    "        labels = batch['labels'].to(DEVICE)\n",
    "\n",
    "        logits = model(input_ids, attention_mask)\n",
    "    \n",
    "        predictions.extend(torch.argmax(logits, dim=1).cpu().numpy())\n",
    "        true_labels.extend(labels.cpu().numpy())\n",
    "\n",
    "print(\"Classification Report:\")\n",
    "print(classification_report(true_labels, predictions))\n",
    "\n",
    "print(\"\\nConfusion Matrix:\")\n",
    "print(confusion_matrix(true_labels, predictions))"
   ]
  },
  {
   "cell_type": "markdown",
   "metadata": {},
   "source": [
    "Saving the outputs"
   ]
  },
  {
   "cell_type": "code",
   "execution_count": 23,
   "metadata": {
    "execution": {
     "iopub.execute_input": "2025-04-04T08:55:02.802421Z",
     "iopub.status.busy": "2025-04-04T08:55:02.802092Z",
     "iopub.status.idle": "2025-04-04T08:55:02.824087Z",
     "shell.execute_reply": "2025-04-04T08:55:02.823239Z",
     "shell.execute_reply.started": "2025-04-04T08:55:02.802397Z"
    },
    "trusted": true
   },
   "outputs": [],
   "source": [
    "results_df = pd.DataFrame({'predictions': predictions})\n",
    "results_df.to_csv('results.csv.predict', index=False)"
   ]
  }
 ],
 "metadata": {
  "kaggle": {
   "accelerator": "gpu",
   "dataSources": [
    {
     "datasetId": 7046880,
     "sourceId": 11272722,
     "sourceType": "datasetVersion"
    },
    {
     "isSourceIdPinned": true,
     "modelId": 291253,
     "modelInstanceId": 270265,
     "sourceId": 320428,
     "sourceType": "modelInstanceVersion"
    }
   ],
   "dockerImageVersionId": 30919,
   "isGpuEnabled": true,
   "isInternetEnabled": true,
   "language": "python",
   "sourceType": "notebook"
  },
  "kernelspec": {
   "display_name": "Python 3",
   "language": "python",
   "name": "python3"
  },
  "language_info": {
   "codemirror_mode": {
    "name": "ipython",
    "version": 3
   },
   "file_extension": ".py",
   "mimetype": "text/x-python",
   "name": "python",
   "nbconvert_exporter": "python",
   "pygments_lexer": "ipython3",
   "version": "3.10.12"
  }
 },
 "nbformat": 4,
 "nbformat_minor": 4
}
