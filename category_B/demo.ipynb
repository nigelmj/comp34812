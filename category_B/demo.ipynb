{
 "cells": [
  {
   "cell_type": "code",
   "execution_count": null,
   "metadata": {
    "vscode": {
     "languageId": "plaintext"
    }
   },
   "outputs": [],
   "source": [
    "# imports\n",
    "import pandas as pd\n",
    "import numpy as np\n",
    "import tensorflow as tf"
   ]
  },
  {
   "cell_type": "code",
   "execution_count": null,
   "metadata": {
    "vscode": {
     "languageId": "plaintext"
    }
   },
   "outputs": [],
   "source": [
    "from tensorflow.keras.preprocessing.text import Tokenizer\n",
    "from tensorflow.keras.preprocessing.sequence import pad_sequences\n",
    "from tensorflow.keras.utils import to_categorical"
   ]
  },
  {
   "cell_type": "code",
   "execution_count": null,
   "metadata": {
    "vscode": {
     "languageId": "plaintext"
    }
   },
   "outputs": [],
   "source": [
    "VOCAB_SIZE = 20000\n",
    "MAX_LENGTH = 35"
   ]
  },
  {
   "cell_type": "code",
   "execution_count": null,
   "metadata": {
    "vscode": {
     "languageId": "plaintext"
    }
   },
   "outputs": [],
   "source": [
    "def load_data(csv_path):\n",
    "    \"\"\"Load dataset from CSV file\"\"\"\n",
    "    df = pd.read_csv(csv_path)\n",
    "    return df[\"premise\"].astype(str).tolist(), df[\"hypothesis\"].astype(str).tolist()"
   ]
  },
  {
   "cell_type": "code",
   "execution_count": null,
   "metadata": {
    "vscode": {
     "languageId": "plaintext"
    }
   },
   "outputs": [],
   "source": [
    "test_data_path = input(\"Input the path to test data: \")\n",
    "test_premises, test_hypotheses = load_data(test_data_path)"
   ]
  },
  {
   "cell_type": "code",
   "execution_count": null,
   "metadata": {
    "vscode": {
     "languageId": "plaintext"
    }
   },
   "outputs": [],
   "source": [
    "tokenizer = input(\"Input the path to tokenizer: \")"
   ]
  },
  {
   "cell_type": "code",
   "execution_count": null,
   "metadata": {
    "vscode": {
     "languageId": "plaintext"
    }
   },
   "outputs": [],
   "source": [
    "import pickle\n",
    "\n",
    "with open(tokenizer, \"rb\") as f:\n",
    "    tokenizer = pickle.load(f)"
   ]
  },
  {
   "cell_type": "code",
   "execution_count": null,
   "metadata": {
    "vscode": {
     "languageId": "plaintext"
    }
   },
   "outputs": [],
   "source": [
    "def tokenize_and_pad(texts, tokenizer, max_length):\n",
    "    \"\"\"Convert text to sequences and pad\"\"\"\n",
    "    sequences = tokenizer.texts_to_sequences(texts)\n",
    "    return pad_sequences(sequences, maxlen=max_length, padding=\"post\", truncating=\"post\")"
   ]
  },
  {
   "cell_type": "code",
   "execution_count": null,
   "metadata": {
    "vscode": {
     "languageId": "plaintext"
    }
   },
   "outputs": [],
   "source": [
    "X_test_p = tokenize_and_pad(test_premises, tokenizer, MAX_LENGTH)\n",
    "X_test_h = tokenize_and_pad(test_hypotheses, tokenizer, MAX_LENGTH)"
   ]
  },
  {
   "cell_type": "code",
   "execution_count": null,
   "metadata": {
    "vscode": {
     "languageId": "plaintext"
    }
   },
   "outputs": [],
   "source": [
    "EMBEDDING_DIM = 300"
   ]
  },
  {
   "cell_type": "code",
   "execution_count": null,
   "metadata": {
    "vscode": {
     "languageId": "plaintext"
    }
   },
   "outputs": [],
   "source": [
    "def load_glove_embeddings(glove_file, embedding_dim):\n",
    "    \"\"\"\n",
    "    Load the embeddings for every word in the file\n",
    "    \"\"\"\n",
    "    embeddings_index = {}\n",
    "    with open(glove_file, 'r', encoding='utf-8') as f:\n",
    "        for line in f:\n",
    "            values = line.split()\n",
    "            word = values[0]\n",
    "            coefs = np.asarray(values[1:], dtype='float32')\n",
    "            embeddings_index[word] = coefs\n",
    "    return embeddings_index"
   ]
  },
  {
   "cell_type": "code",
   "execution_count": null,
   "metadata": {
    "vscode": {
     "languageId": "plaintext"
    }
   },
   "outputs": [],
   "source": [
    "glove_path = input(\"Input the path to glove embeddings file: \")\n",
    "embeddings_index = load_glove_embeddings(glove_path, EMBEDDING_DIM)"
   ]
  },
  {
   "cell_type": "code",
   "execution_count": null,
   "metadata": {
    "vscode": {
     "languageId": "plaintext"
    }
   },
   "outputs": [],
   "source": [
    "def create_embedding_matrix(embedding_index, word_index, embedding_dim, vocab_size):\n",
    "    \"\"\"\n",
    "    Creates an embedding matrix from the GloVe embeddings.\n",
    "    \"\"\"\n",
    "    embedding_matrix = np.zeros((vocab_size, embedding_dim))\n",
    "    \n",
    "    for word, index in word_index.items():\n",
    "        if index >= vocab_size:\n",
    "            break\n",
    "        embedding_vector = embedding_index.get(word)\n",
    "        if embedding_vector is not None:\n",
    "            embedding_matrix[index] = embedding_vector\n",
    "    \n",
    "    return embedding_matrix"
   ]
  },
  {
   "cell_type": "code",
   "execution_count": null,
   "metadata": {
    "vscode": {
     "languageId": "plaintext"
    }
   },
   "outputs": [],
   "source": [
    "word_index = tokenizer.word_index\n",
    "embedding_matrix = create_embedding_matrix(embeddings_index, word_index, EMBEDDING_DIM, VOCAB_SIZE)"
   ]
  },
  {
   "cell_type": "code",
   "execution_count": null,
   "metadata": {
    "vscode": {
     "languageId": "plaintext"
    }
   },
   "outputs": [],
   "source": [
    "def soft_attention(premise, hypothesis):\n",
    "    attention = Dot(axes=-1)([premise, hypothesis])\n",
    "    premise_attn = Softmax(axis=-1)(attention)\n",
    "    hypothesis_attn = Softmax(axis=-2)(attention)\n",
    "\n",
    "    premise_aligned = Dot(axes=1)([premise_attn, hypothesis])\n",
    "    hypothesis_aligned = Dot(axes=1)([hypothesis_attn, premise])\n",
    "    return premise_aligned, hypothesis_aligned"
   ]
  },
  {
   "cell_type": "code",
   "execution_count": null,
   "metadata": {
    "vscode": {
     "languageId": "plaintext"
    }
   },
   "outputs": [],
   "source": [
    "lstm_path = input(\"Input the path to LSTM model: \")\n",
    "bilstm_path = input(\"Input the path to BiLSTM model: \")\n",
    "gru_path = input(\"Input the path to GRU model: \")\n",
    "bigru_path = input(\"Input the path to BiGRU model: \")"
   ]
  },
  {
   "cell_type": "code",
   "execution_count": null,
   "metadata": {
    "vscode": {
     "languageId": "plaintext"
    }
   },
   "outputs": [],
   "source": [
    "from tensorflow.keras.models import load_model"
   ]
  },
  {
   "cell_type": "code",
   "execution_count": null,
   "metadata": {
    "vscode": {
     "languageId": "plaintext"
    }
   },
   "outputs": [],
   "source": [
    "models = {\n",
    "    \"LSTM\": load_model(\n",
    "        lstm_path,\n",
    "        custom_objects={\"soft_attention\": soft_attention}\n",
    "    ),\n",
    "    \"BiLSTM\": load_model(\n",
    "        bilstm_path,\n",
    "        custom_objects={\"soft_attention\": soft_attention}\n",
    "    ),\n",
    "    \"GRU\": load_model(\n",
    "        gru_path,\n",
    "        custom_objects={\"soft_attention\": soft_attention}\n",
    "    ),\n",
    "    \"BiGRU\": load_model(\n",
    "        bigru_path,\n",
    "        custom_objects={\"soft_attention\": soft_attention}\n",
    "    ),\n",
    "}"
   ]
  },
  {
   "cell_type": "code",
   "execution_count": null,
   "metadata": {
    "vscode": {
     "languageId": "plaintext"
    }
   },
   "outputs": [],
   "source": [
    "import json\n",
    "\n",
    "weights_path = input(\"Input the path to model accuracy weights: \")\n",
    "with open(weights_path, \"r\") as f:\n",
    "    weights = json.load(f)"
   ]
  },
  {
   "cell_type": "code",
   "execution_count": null,
   "metadata": {
    "vscode": {
     "languageId": "plaintext"
    }
   },
   "outputs": [],
   "source": [
    "weighted_sum = np.zeros((X_test_p.shape[0], 2), dtype=np.float32)\n",
    "    \n",
    "for name, model in models.items():\n",
    "    raw_preds = model.predict([X_test_p, X_test_h])\n",
    "\n",
    "    # Apply weighting and accumulate\n",
    "    weighted_preds = raw_preds * weights[name]\n",
    "    weighted_sum += weighted_preds\n",
    "\n",
    "# Calculate final predictions\n",
    "y_pred = np.argmax(weighted_sum, axis=1)"
   ]
  },
  {
   "cell_type": "code",
   "execution_count": null,
   "metadata": {
    "vscode": {
     "languageId": "plaintext"
    }
   },
   "outputs": [],
   "source": [
    "from sklearn.metrics import classification_report\n",
    "df = pd.read_csv(test_data_path)\n",
    "test_labels = df['label'].values\n",
    "print(classification_report(test_labels, y_pred, digits=4))"
   ]
  },
  {
   "cell_type": "code",
   "execution_count": null,
   "metadata": {
    "vscode": {
     "languageId": "plaintext"
    }
   },
   "outputs": [],
   "source": [
    "def save_predictions_only(y_pred, output_path):\n",
    "    \"\"\"Save only the predictions to a CSV file with a 'predictions' column.\"\"\"\n",
    "    df = pd.DataFrame({\"predictions\": y_pred.flatten()})\n",
    "    df.to_csv(output_path, index=False)\n",
    "    print(f\"Predictions saved to {output_path}\")"
   ]
  },
  {
   "cell_type": "code",
   "execution_count": null,
   "metadata": {
    "vscode": {
     "languageId": "plaintext"
    }
   },
   "outputs": [],
   "source": [
    "save_predictions_only(y_pred, \"Group_47_B.csv\")"
   ]
  }
 ],
 "metadata": {
  "language_info": {
   "name": "python"
  }
 },
 "nbformat": 4,
 "nbformat_minor": 2
}
